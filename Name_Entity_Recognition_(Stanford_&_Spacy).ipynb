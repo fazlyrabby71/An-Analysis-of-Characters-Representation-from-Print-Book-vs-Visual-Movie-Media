{
  "nbformat": 4,
  "nbformat_minor": 0,
  "metadata": {
    "colab": {
      "name": "Name Entity Recognition (Stanford & Spacy).ipynb",
      "provenance": [],
      "collapsed_sections": [],
      "include_colab_link": true
    },
    "kernelspec": {
      "name": "python3",
      "display_name": "Python 3"
    }
  },
  "cells": [
    {
      "cell_type": "markdown",
      "metadata": {
        "id": "view-in-github",
        "colab_type": "text"
      },
      "source": [
        "<a href=\"https://colab.research.google.com/github/MSaydurRahman/An-Analysis-of-Character-Representation-from-Print-Book-vs-Visual-Movie-Media/blob/master/Name_Entity_Recognition_(Stanford_%26_Spacy).ipynb\" target=\"_parent\"><img src=\"https://colab.research.google.com/assets/colab-badge.svg\" alt=\"Open In Colab\"/></a>"
      ]
    },
    {
      "cell_type": "markdown",
      "metadata": {
        "id": "f2mk1pcMGsYC"
      },
      "source": [
        "**Connect With Google Drive**"
      ]
    },
    {
      "cell_type": "code",
      "metadata": {
        "id": "Itn4d0hjWCug",
        "outputId": "195027c3-8c86-43a5-92eb-e5637542e21a",
        "colab": {
          "base_uri": "https://localhost:8080/"
        }
      },
      "source": [
        "from google.colab import drive\n",
        "drive.mount('/content/drive')"
      ],
      "execution_count": 13,
      "outputs": [
        {
          "output_type": "stream",
          "text": [
            "Drive already mounted at /content/drive; to attempt to forcibly remount, call drive.mount(\"/content/drive\", force_remount=True).\n"
          ],
          "name": "stdout"
        }
      ]
    },
    {
      "cell_type": "markdown",
      "metadata": {
        "id": "_-YPAPp6Ix_w"
      },
      "source": [
        "**Data**"
      ]
    },
    {
      "cell_type": "code",
      "metadata": {
        "id": "e8muIIaoLA1x",
        "outputId": "5a9c13a2-6289-421e-b3f0-9d1790e81fa1",
        "colab": {
          "base_uri": "https://localhost:8080/"
        }
      },
      "source": [
        "t = open('/content/drive/My Drive/499/Sample.txt', \"r\")\n",
        "text = t.readline()\n",
        "print(text)"
      ],
      "execution_count": 14,
      "outputs": [
        {
          "output_type": "stream",
          "text": [
            "Mr. and Mrs. Dursley, of number four, Privet Drive, were proud to say that they were perfectly normal, thank you very much. They were the last people you’d expect to be involved in anything strange or mysterious, because they just didn’t hold with such nonsense. Mr. Dursley was the director of a firm called Grunnings, which made drills. He was a big, beefy man with hardly any neck, although he did have a very large mustache. Mrs. Dursley was thin and blonde and had nearly twice the usual amount of neck, which came in very useful as she spent so much of her time craning over garden fences, spying on the neighbors. The Dursleys had a small son called Dudley and in their opinion there was no finer boy anywhere. The Dursleys had everything they wanted, but they also had a secret, and their greatest fear was that somebody would discover it. They didn’t think they could bear it if anyone found out about the Potters. Mrs. Potter was Mrs. Dursley’s sister, but they hadn’t met for several years; in fact, Mrs. Dursley pretended she didn’t have a sister, because her sister and her good-fornothing husband were as unDursleyish as it was possible to be. The Dursleys shuddered to think what the neighbors would say if the Potters arrived in the street. The Dursleys knew that the Potters had a small son, too, but they had never even seen him. This boy was another good reason for keeping the Potters away; they didn’t want Dudley mixing with a child like that. When Mr. and Mrs. Dursley woke up on the dull, gray Tuesday our story starts, there was nothing about the cloudy sky outside to suggest that strange and mysterious things would soon be happening all over the country. Mr. Dursley hummed as he picked out his most boring tie for work, and Mrs. Dursley gossiped away happily as she wrestled a screaming Dudley into his high chair.\n",
            "\n"
          ],
          "name": "stdout"
        }
      ]
    },
    {
      "cell_type": "markdown",
      "metadata": {
        "id": "3LaZegnLa25z"
      },
      "source": [
        "# **Stanford NLP NER**"
      ]
    },
    {
      "cell_type": "markdown",
      "metadata": {
        "id": "t_a6Tyq0a8ew"
      },
      "source": [
        "**Dependencies**"
      ]
    },
    {
      "cell_type": "code",
      "metadata": {
        "id": "fs1xPOZOMkgK",
        "outputId": "17f53c74-6917-4015-f5e0-cc2886c83556",
        "colab": {
          "base_uri": "https://localhost:8080/"
        }
      },
      "source": [
        "nltk.download('punkt')"
      ],
      "execution_count": 15,
      "outputs": [
        {
          "output_type": "stream",
          "text": [
            "[nltk_data] Downloading package punkt to /root/nltk_data...\n",
            "[nltk_data]   Package punkt is already up-to-date!\n"
          ],
          "name": "stdout"
        },
        {
          "output_type": "execute_result",
          "data": {
            "text/plain": [
              "True"
            ]
          },
          "metadata": {
            "tags": []
          },
          "execution_count": 15
        }
      ]
    },
    {
      "cell_type": "code",
      "metadata": {
        "id": "5kssJwlvLf9I"
      },
      "source": [
        "import nltk\n",
        "import pandas as pd\n",
        "from nltk.tag import StanfordNERTagger\n",
        "from nltk.tokenize import word_tokenize\n",
        "import os"
      ],
      "execution_count": 16,
      "outputs": []
    },
    {
      "cell_type": "code",
      "metadata": {
        "id": "UWKtGRX3Lf5w",
        "outputId": "723f4b00-0430-40e1-9907-2b185ffca13f",
        "colab": {
          "base_uri": "https://localhost:8080/"
        }
      },
      "source": [
        "model = '/content/drive/My Drive/499/stanford-ner-4.0.0/classifiers/english.all.3class.distsim.crf.ser.gz'\n",
        "jar = '/content/drive/My Drive/499/stanford-ner-4.0.0/stanford-ner.jar'\n",
        "\n",
        "\n",
        "\n",
        "st = StanfordNERTagger(model, jar,encoding='utf-8')"
      ],
      "execution_count": 17,
      "outputs": [
        {
          "output_type": "stream",
          "text": [
            "/usr/local/lib/python3.6/dist-packages/nltk/tag/stanford.py:183: DeprecationWarning: \n",
            "The StanfordTokenizer will be deprecated in version 3.2.5.\n",
            "Please use \u001b[91mnltk.tag.corenlp.CoreNLPPOSTagger\u001b[0m or \u001b[91mnltk.tag.corenlp.CoreNLPNERTagger\u001b[0m instead.\n",
            "  super(StanfordNERTagger, self).__init__(*args, **kwargs)\n"
          ],
          "name": "stderr"
        }
      ]
    },
    {
      "cell_type": "code",
      "metadata": {
        "id": "uIblN-v7Lf1n",
        "outputId": "12b8c07d-e954-465d-b366-1c052ddda86a",
        "colab": {
          "base_uri": "https://localhost:8080/",
          "height": 419
        }
      },
      "source": [
        "tokenized_text = nltk.word_tokenize(text)\n",
        "classified_text = st.tag(tokenized_text)\n",
        "\n",
        "classified_text_df = pd.DataFrame(classified_text)\n",
        "\n",
        "classified_text_df.drop_duplicates(keep='first', inplace=True)\n",
        "classified_text_df.reset_index(drop=True, inplace=True)\n",
        "classified_text_df.columns = [\"Entities\", \"Labels\"]\n",
        "classified_text_df"
      ],
      "execution_count": 18,
      "outputs": [
        {
          "output_type": "execute_result",
          "data": {
            "text/html": [
              "<div>\n",
              "<style scoped>\n",
              "    .dataframe tbody tr th:only-of-type {\n",
              "        vertical-align: middle;\n",
              "    }\n",
              "\n",
              "    .dataframe tbody tr th {\n",
              "        vertical-align: top;\n",
              "    }\n",
              "\n",
              "    .dataframe thead th {\n",
              "        text-align: right;\n",
              "    }\n",
              "</style>\n",
              "<table border=\"1\" class=\"dataframe\">\n",
              "  <thead>\n",
              "    <tr style=\"text-align: right;\">\n",
              "      <th></th>\n",
              "      <th>Entities</th>\n",
              "      <th>Labels</th>\n",
              "    </tr>\n",
              "  </thead>\n",
              "  <tbody>\n",
              "    <tr>\n",
              "      <th>0</th>\n",
              "      <td>Mr.</td>\n",
              "      <td>O</td>\n",
              "    </tr>\n",
              "    <tr>\n",
              "      <th>1</th>\n",
              "      <td>and</td>\n",
              "      <td>O</td>\n",
              "    </tr>\n",
              "    <tr>\n",
              "      <th>2</th>\n",
              "      <td>Mrs.</td>\n",
              "      <td>O</td>\n",
              "    </tr>\n",
              "    <tr>\n",
              "      <th>3</th>\n",
              "      <td>Dursley</td>\n",
              "      <td>PERSON</td>\n",
              "    </tr>\n",
              "    <tr>\n",
              "      <th>4</th>\n",
              "      <td>,</td>\n",
              "      <td>O</td>\n",
              "    </tr>\n",
              "    <tr>\n",
              "      <th>...</th>\n",
              "      <td>...</td>\n",
              "      <td>...</td>\n",
              "    </tr>\n",
              "    <tr>\n",
              "      <th>185</th>\n",
              "      <td>wrestled</td>\n",
              "      <td>O</td>\n",
              "    </tr>\n",
              "    <tr>\n",
              "      <th>186</th>\n",
              "      <td>screaming</td>\n",
              "      <td>O</td>\n",
              "    </tr>\n",
              "    <tr>\n",
              "      <th>187</th>\n",
              "      <td>into</td>\n",
              "      <td>O</td>\n",
              "    </tr>\n",
              "    <tr>\n",
              "      <th>188</th>\n",
              "      <td>high</td>\n",
              "      <td>O</td>\n",
              "    </tr>\n",
              "    <tr>\n",
              "      <th>189</th>\n",
              "      <td>chair</td>\n",
              "      <td>O</td>\n",
              "    </tr>\n",
              "  </tbody>\n",
              "</table>\n",
              "<p>190 rows × 2 columns</p>\n",
              "</div>"
            ],
            "text/plain": [
              "      Entities  Labels\n",
              "0          Mr.       O\n",
              "1          and       O\n",
              "2         Mrs.       O\n",
              "3      Dursley  PERSON\n",
              "4            ,       O\n",
              "..         ...     ...\n",
              "185   wrestled       O\n",
              "186  screaming       O\n",
              "187       into       O\n",
              "188       high       O\n",
              "189      chair       O\n",
              "\n",
              "[190 rows x 2 columns]"
            ]
          },
          "metadata": {
            "tags": []
          },
          "execution_count": 18
        }
      ]
    },
    {
      "cell_type": "code",
      "metadata": {
        "id": "-Og384v5LftP",
        "outputId": "5faf893a-d066-4417-dd49-728a8eb3327e",
        "colab": {
          "base_uri": "https://localhost:8080/",
          "height": 235
        }
      },
      "source": [
        "tokenized_text = nltk.word_tokenize(text)\n",
        "classified_text = st.tag(tokenized_text)\n",
        "\n",
        "netagged_words = classified_text\n",
        "\n",
        "entities = []\n",
        "labels = []\n",
        "\n",
        "from itertools import groupby\n",
        "for tag, chunk in groupby(classified_text, lambda x:x[1]):\n",
        "    if tag != \"O\":\n",
        "        entities.append(' '.join(w for w, t in chunk))\n",
        "        labels.append(tag)\n",
        "        \n",
        "    \n",
        "entities_all = list(zip(entities, labels))\n",
        "entities_unique = list(set(zip(entities, labels))) #unique entities   \n",
        "entities_df = pd.DataFrame(entities_unique)\n",
        "entities_df.columns = [\"Entities\", \"Labels\"]\n",
        "entities_df"
      ],
      "execution_count": 19,
      "outputs": [
        {
          "output_type": "execute_result",
          "data": {
            "text/html": [
              "<div>\n",
              "<style scoped>\n",
              "    .dataframe tbody tr th:only-of-type {\n",
              "        vertical-align: middle;\n",
              "    }\n",
              "\n",
              "    .dataframe tbody tr th {\n",
              "        vertical-align: top;\n",
              "    }\n",
              "\n",
              "    .dataframe thead th {\n",
              "        text-align: right;\n",
              "    }\n",
              "</style>\n",
              "<table border=\"1\" class=\"dataframe\">\n",
              "  <thead>\n",
              "    <tr style=\"text-align: right;\">\n",
              "      <th></th>\n",
              "      <th>Entities</th>\n",
              "      <th>Labels</th>\n",
              "    </tr>\n",
              "  </thead>\n",
              "  <tbody>\n",
              "    <tr>\n",
              "      <th>0</th>\n",
              "      <td>Dursleys</td>\n",
              "      <td>PERSON</td>\n",
              "    </tr>\n",
              "    <tr>\n",
              "      <th>1</th>\n",
              "      <td>Dursleys</td>\n",
              "      <td>ORGANIZATION</td>\n",
              "    </tr>\n",
              "    <tr>\n",
              "      <th>2</th>\n",
              "      <td>Dursley</td>\n",
              "      <td>PERSON</td>\n",
              "    </tr>\n",
              "    <tr>\n",
              "      <th>3</th>\n",
              "      <td>Privet Drive</td>\n",
              "      <td>LOCATION</td>\n",
              "    </tr>\n",
              "    <tr>\n",
              "      <th>4</th>\n",
              "      <td>Potter</td>\n",
              "      <td>PERSON</td>\n",
              "    </tr>\n",
              "    <tr>\n",
              "      <th>5</th>\n",
              "      <td>Dudley</td>\n",
              "      <td>PERSON</td>\n",
              "    </tr>\n",
              "  </tbody>\n",
              "</table>\n",
              "</div>"
            ],
            "text/plain": [
              "       Entities        Labels\n",
              "0      Dursleys        PERSON\n",
              "1      Dursleys  ORGANIZATION\n",
              "2       Dursley        PERSON\n",
              "3  Privet Drive      LOCATION\n",
              "4        Potter        PERSON\n",
              "5        Dudley        PERSON"
            ]
          },
          "metadata": {
            "tags": []
          },
          "execution_count": 19
        }
      ]
    },
    {
      "cell_type": "markdown",
      "metadata": {
        "id": "oIczypokbPdB"
      },
      "source": [
        "# **Using Spacy**"
      ]
    },
    {
      "cell_type": "markdown",
      "metadata": {
        "id": "XwteUcluod9J"
      },
      "source": [
        "**Dependencies**"
      ]
    },
    {
      "cell_type": "code",
      "metadata": {
        "id": "nRJRRz8MLfiH",
        "outputId": "a7dabef8-7b0f-48fc-81ff-06447d610a0e",
        "colab": {
          "base_uri": "https://localhost:8080/",
          "height": 35
        }
      },
      "source": [
        "import spacy \n",
        "from spacy import displacy\n",
        "#SpaCy 2.x brough significant speed and accuracy improvements\n",
        "spacy.__version__"
      ],
      "execution_count": 20,
      "outputs": [
        {
          "output_type": "execute_result",
          "data": {
            "application/vnd.google.colaboratory.intrinsic+json": {
              "type": "string"
            },
            "text/plain": [
              "'2.2.4'"
            ]
          },
          "metadata": {
            "tags": []
          },
          "execution_count": 20
        }
      ]
    },
    {
      "cell_type": "code",
      "metadata": {
        "id": "8JoghO6NO0G8"
      },
      "source": [
        "# Load SpaCy model\n",
        "nlp = spacy.load(\"en_core_web_sm\")\n",
        "#nlp = spacy.load(\"en_core_web_md\")\n",
        "#nlp = spacy.load(\"en_core_web_lg\")"
      ],
      "execution_count": 21,
      "outputs": []
    },
    {
      "cell_type": "code",
      "metadata": {
        "id": "RC_pzDGhOz8U",
        "outputId": "9a5548fb-8c73-4f7c-c915-691e7b61b519",
        "colab": {
          "base_uri": "https://localhost:8080/",
          "height": 762
        }
      },
      "source": [
        "doc = nlp(text)\n",
        "\n",
        "entities = []\n",
        "labels = []\n",
        "position_start = []\n",
        "position_end = []\n",
        "\n",
        "for ent in doc.ents:\n",
        "    entities.append(ent)\n",
        "    labels.append(ent.label_)\n",
        "    position_start.append(ent.start_char)\n",
        "    position_end.append(ent.end_char)\n",
        "    \n",
        "df = pd.DataFrame({'Entities':entities,'Labels':labels,'Position_Start':position_start, 'Position_End':position_end})\n",
        "\n",
        "df"
      ],
      "execution_count": 22,
      "outputs": [
        {
          "output_type": "execute_result",
          "data": {
            "text/html": [
              "<div>\n",
              "<style scoped>\n",
              "    .dataframe tbody tr th:only-of-type {\n",
              "        vertical-align: middle;\n",
              "    }\n",
              "\n",
              "    .dataframe tbody tr th {\n",
              "        vertical-align: top;\n",
              "    }\n",
              "\n",
              "    .dataframe thead th {\n",
              "        text-align: right;\n",
              "    }\n",
              "</style>\n",
              "<table border=\"1\" class=\"dataframe\">\n",
              "  <thead>\n",
              "    <tr style=\"text-align: right;\">\n",
              "      <th></th>\n",
              "      <th>Entities</th>\n",
              "      <th>Labels</th>\n",
              "      <th>Position_Start</th>\n",
              "      <th>Position_End</th>\n",
              "    </tr>\n",
              "  </thead>\n",
              "  <tbody>\n",
              "    <tr>\n",
              "      <th>0</th>\n",
              "      <td>(Dursley)</td>\n",
              "      <td>PERSON</td>\n",
              "      <td>13</td>\n",
              "      <td>20</td>\n",
              "    </tr>\n",
              "    <tr>\n",
              "      <th>1</th>\n",
              "      <td>(number, four)</td>\n",
              "      <td>CARDINAL</td>\n",
              "      <td>25</td>\n",
              "      <td>36</td>\n",
              "    </tr>\n",
              "    <tr>\n",
              "      <th>2</th>\n",
              "      <td>(Privet, Drive)</td>\n",
              "      <td>GPE</td>\n",
              "      <td>38</td>\n",
              "      <td>50</td>\n",
              "    </tr>\n",
              "    <tr>\n",
              "      <th>3</th>\n",
              "      <td>(Dursley)</td>\n",
              "      <td>PERSON</td>\n",
              "      <td>267</td>\n",
              "      <td>274</td>\n",
              "    </tr>\n",
              "    <tr>\n",
              "      <th>4</th>\n",
              "      <td>(Grunnings)</td>\n",
              "      <td>ORG</td>\n",
              "      <td>309</td>\n",
              "      <td>318</td>\n",
              "    </tr>\n",
              "    <tr>\n",
              "      <th>5</th>\n",
              "      <td>(Dursley)</td>\n",
              "      <td>PERSON</td>\n",
              "      <td>434</td>\n",
              "      <td>441</td>\n",
              "    </tr>\n",
              "    <tr>\n",
              "      <th>6</th>\n",
              "      <td>(Dursleys)</td>\n",
              "      <td>PERSON</td>\n",
              "      <td>625</td>\n",
              "      <td>633</td>\n",
              "    </tr>\n",
              "    <tr>\n",
              "      <th>7</th>\n",
              "      <td>(Dudley)</td>\n",
              "      <td>PERSON</td>\n",
              "      <td>657</td>\n",
              "      <td>663</td>\n",
              "    </tr>\n",
              "    <tr>\n",
              "      <th>8</th>\n",
              "      <td>(Dursleys)</td>\n",
              "      <td>PERSON</td>\n",
              "      <td>722</td>\n",
              "      <td>730</td>\n",
              "    </tr>\n",
              "    <tr>\n",
              "      <th>9</th>\n",
              "      <td>(Potters)</td>\n",
              "      <td>ORG</td>\n",
              "      <td>915</td>\n",
              "      <td>922</td>\n",
              "    </tr>\n",
              "    <tr>\n",
              "      <th>10</th>\n",
              "      <td>(Potter)</td>\n",
              "      <td>PERSON</td>\n",
              "      <td>929</td>\n",
              "      <td>935</td>\n",
              "    </tr>\n",
              "    <tr>\n",
              "      <th>11</th>\n",
              "      <td>(Dursley)</td>\n",
              "      <td>PERSON</td>\n",
              "      <td>945</td>\n",
              "      <td>952</td>\n",
              "    </tr>\n",
              "    <tr>\n",
              "      <th>12</th>\n",
              "      <td>(several, years)</td>\n",
              "      <td>DATE</td>\n",
              "      <td>987</td>\n",
              "      <td>1000</td>\n",
              "    </tr>\n",
              "    <tr>\n",
              "      <th>13</th>\n",
              "      <td>(Dursley)</td>\n",
              "      <td>PERSON</td>\n",
              "      <td>1016</td>\n",
              "      <td>1023</td>\n",
              "    </tr>\n",
              "    <tr>\n",
              "      <th>14</th>\n",
              "      <td>(Potters)</td>\n",
              "      <td>ORG</td>\n",
              "      <td>1226</td>\n",
              "      <td>1233</td>\n",
              "    </tr>\n",
              "    <tr>\n",
              "      <th>15</th>\n",
              "      <td>(Potters)</td>\n",
              "      <td>ORG</td>\n",
              "      <td>1284</td>\n",
              "      <td>1291</td>\n",
              "    </tr>\n",
              "    <tr>\n",
              "      <th>16</th>\n",
              "      <td>(Potters)</td>\n",
              "      <td>WORK_OF_ART</td>\n",
              "      <td>1397</td>\n",
              "      <td>1404</td>\n",
              "    </tr>\n",
              "    <tr>\n",
              "      <th>17</th>\n",
              "      <td>(Dudley)</td>\n",
              "      <td>PERSON</td>\n",
              "      <td>1428</td>\n",
              "      <td>1434</td>\n",
              "    </tr>\n",
              "    <tr>\n",
              "      <th>18</th>\n",
              "      <td>(Dursley)</td>\n",
              "      <td>PERSON</td>\n",
              "      <td>1484</td>\n",
              "      <td>1491</td>\n",
              "    </tr>\n",
              "    <tr>\n",
              "      <th>19</th>\n",
              "      <td>(Tuesday)</td>\n",
              "      <td>DATE</td>\n",
              "      <td>1518</td>\n",
              "      <td>1525</td>\n",
              "    </tr>\n",
              "    <tr>\n",
              "      <th>20</th>\n",
              "      <td>(Dursley)</td>\n",
              "      <td>PERSON</td>\n",
              "      <td>1687</td>\n",
              "      <td>1694</td>\n",
              "    </tr>\n",
              "    <tr>\n",
              "      <th>21</th>\n",
              "      <td>(Dursley)</td>\n",
              "      <td>PERSON</td>\n",
              "      <td>1758</td>\n",
              "      <td>1765</td>\n",
              "    </tr>\n",
              "    <tr>\n",
              "      <th>22</th>\n",
              "      <td>(Dudley)</td>\n",
              "      <td>PERSON</td>\n",
              "      <td>1816</td>\n",
              "      <td>1822</td>\n",
              "    </tr>\n",
              "  </tbody>\n",
              "</table>\n",
              "</div>"
            ],
            "text/plain": [
              "            Entities       Labels  Position_Start  Position_End\n",
              "0          (Dursley)       PERSON              13            20\n",
              "1     (number, four)     CARDINAL              25            36\n",
              "2    (Privet, Drive)          GPE              38            50\n",
              "3          (Dursley)       PERSON             267           274\n",
              "4        (Grunnings)          ORG             309           318\n",
              "5          (Dursley)       PERSON             434           441\n",
              "6         (Dursleys)       PERSON             625           633\n",
              "7           (Dudley)       PERSON             657           663\n",
              "8         (Dursleys)       PERSON             722           730\n",
              "9          (Potters)          ORG             915           922\n",
              "10          (Potter)       PERSON             929           935\n",
              "11         (Dursley)       PERSON             945           952\n",
              "12  (several, years)         DATE             987          1000\n",
              "13         (Dursley)       PERSON            1016          1023\n",
              "14         (Potters)          ORG            1226          1233\n",
              "15         (Potters)          ORG            1284          1291\n",
              "16         (Potters)  WORK_OF_ART            1397          1404\n",
              "17          (Dudley)       PERSON            1428          1434\n",
              "18         (Dursley)       PERSON            1484          1491\n",
              "19         (Tuesday)         DATE            1518          1525\n",
              "20         (Dursley)       PERSON            1687          1694\n",
              "21         (Dursley)       PERSON            1758          1765\n",
              "22          (Dudley)       PERSON            1816          1822"
            ]
          },
          "metadata": {
            "tags": []
          },
          "execution_count": 22
        }
      ]
    },
    {
      "cell_type": "code",
      "metadata": {
        "id": "a5J4qKWSOza-",
        "outputId": "8a72885a-b003-4cc9-ffd9-9e860af28e24",
        "colab": {
          "base_uri": "https://localhost:8080/",
          "height": 35
        }
      },
      "source": [
        "spacy.explain(\"PROPN\")"
      ],
      "execution_count": 23,
      "outputs": [
        {
          "output_type": "execute_result",
          "data": {
            "application/vnd.google.colaboratory.intrinsic+json": {
              "type": "string"
            },
            "text/plain": [
              "'proper noun'"
            ]
          },
          "metadata": {
            "tags": []
          },
          "execution_count": 23
        }
      ]
    },
    {
      "cell_type": "markdown",
      "metadata": {
        "id": "9uDQaoHobmW5"
      },
      "source": [
        "**1st Process To count word frquency**"
      ]
    },
    {
      "cell_type": "code",
      "metadata": {
        "id": "w6-QJanNPB5s",
        "outputId": "581e1420-2742-43bb-d0a8-9243e9f89f41",
        "colab": {
          "base_uri": "https://localhost:8080/"
        }
      },
      "source": [
        "\n",
        "from collections import Counter\n",
        "nlp = spacy.load('en')\n",
        "# all tokens that arent stop words or punctuations\n",
        "words = [token.text for token in doc if token.is_stop != True and token.is_punct != True]\n",
        "\n",
        "# Proper noun tokens that arent stop words or punctuations\n",
        "proper_nouns = [token.text for token in doc if token.is_stop != True and token.is_punct != True and token.pos_ == \"PROPN\"]\n",
        "\n",
        "# noun tokens that arent stop words or punctuations\n",
        "nouns = [token.text for token in doc if token.is_stop != True and token.is_punct != True and token.pos_ == \"NOUN\"]\n",
        "\n",
        "# noun tokens that arent stop words or punctuations\n",
        "adj = [token.text for token in doc if token.is_stop != True and token.is_punct != True and token.pos_ == \"ADJ\"]\n",
        "\n",
        "# noun tokens that arent stop words or punctuations\n",
        "verb = [token.text for token in doc if token.is_stop != True and token.is_punct != True and token.pos_ == \"VERB\"]\n",
        "\n",
        "# common tokens\n",
        "word_freq = Counter(words)\n",
        "common_words = word_freq.most_common()\n",
        "print(\"Common Words:\", common_words)\n",
        "\n",
        "# common proper noun tokens\n",
        "prop_noun_freq = Counter(proper_nouns)\n",
        "common_prop_nouns = prop_noun_freq.most_common()\n",
        "print(\"Common Proper Nouns:\", common_prop_nouns)\n",
        "\n",
        "# common noun tokens\n",
        "noun_freq = Counter(nouns)\n",
        "common_nouns = noun_freq.most_common()\n",
        "print(\"Common Nouns:\", common_nouns)\n",
        "\n",
        "# common adj tokens\n",
        "adj_freq = Counter(adj)\n",
        "common_adj = adj_freq.most_common()\n",
        "print(\"Common Adjectives:\", common_adj)\n",
        "\n",
        "# common verb tokens\n",
        "verb_freq = Counter(verb)\n",
        "common_verb = verb_freq.most_common()\n",
        "print(\"Common Verbs:\", common_verb)"
      ],
      "execution_count": 24,
      "outputs": [
        {
          "output_type": "stream",
          "text": [
            "Common Words: [('Dursley', 8), ('Mrs.', 7), ('Mr.', 4), ('Dursleys', 4), ('Potters', 4), ('Dudley', 3), ('sister', 3), ('strange', 2), ('mysterious', 2), ('called', 2), ('neck', 2), ('neighbors', 2), ('small', 2), ('son', 2), ('boy', 2), ('think', 2), ('good', 2), ('away', 2), ('number', 1), ('Privet', 1), ('Drive', 1), ('proud', 1), ('perfectly', 1), ('normal', 1), ('thank', 1), ('people', 1), ('expect', 1), ('involved', 1), ('hold', 1), ('nonsense', 1), ('director', 1), ('firm', 1), ('Grunnings', 1), ('drills', 1), ('big', 1), ('beefy', 1), ('man', 1), ('hardly', 1), ('large', 1), ('mustache', 1), ('thin', 1), ('blonde', 1), ('nearly', 1), ('twice', 1), ('usual', 1), ('came', 1), ('useful', 1), ('spent', 1), ('time', 1), ('craning', 1), ('garden', 1), ('fences', 1), ('spying', 1), ('opinion', 1), ('finer', 1), ('wanted', 1), ('secret', 1), ('greatest', 1), ('fear', 1), ('somebody', 1), ('discover', 1), ('bear', 1), ('found', 1), ('Potter', 1), ('met', 1), ('years', 1), ('fact', 1), ('pretended', 1), ('fornothing', 1), ('husband', 1), ('unDursleyish', 1), ('possible', 1), ('shuddered', 1), ('arrived', 1), ('street', 1), ('knew', 1), ('seen', 1), ('reason', 1), ('keeping', 1), ('want', 1), ('mixing', 1), ('child', 1), ('like', 1), ('woke', 1), ('dull', 1), ('gray', 1), ('Tuesday', 1), ('story', 1), ('starts', 1), ('cloudy', 1), ('sky', 1), ('outside', 1), ('suggest', 1), ('things', 1), ('soon', 1), ('happening', 1), ('country', 1), ('hummed', 1), ('picked', 1), ('boring', 1), ('tie', 1), ('work', 1), ('gossiped', 1), ('happily', 1), ('wrestled', 1), ('screaming', 1), ('high', 1), ('chair', 1), ('\\n', 1)]\n",
            "Common Proper Nouns: [('Dursley', 8), ('Mrs.', 7), ('Mr.', 4), ('Dursleys', 4), ('Potters', 4), ('Dudley', 3), ('Privet', 1), ('Drive', 1), ('Grunnings', 1), ('Potter', 1), ('Tuesday', 1)]\n",
            "Common Nouns: [('sister', 3), ('neck', 2), ('neighbors', 2), ('son', 2), ('boy', 2), ('number', 1), ('people', 1), ('nonsense', 1), ('director', 1), ('firm', 1), ('drills', 1), ('man', 1), ('mustache', 1), ('time', 1), ('garden', 1), ('fences', 1), ('opinion', 1), ('secret', 1), ('fear', 1), ('years', 1), ('fact', 1), ('husband', 1), ('street', 1), ('reason', 1), ('child', 1), ('story', 1), ('sky', 1), ('things', 1), ('country', 1), ('tie', 1), ('work', 1), ('chair', 1)]\n",
            "Common Adjectives: [('strange', 2), ('mysterious', 2), ('small', 2), ('proud', 1), ('normal', 1), ('big', 1), ('beefy', 1), ('large', 1), ('thin', 1), ('blonde', 1), ('usual', 1), ('useful', 1), ('finer', 1), ('greatest', 1), ('unDursleyish', 1), ('possible', 1), ('good', 1), ('dull', 1), ('gray', 1), ('cloudy', 1), ('boring', 1), ('high', 1)]\n",
            "Common Verbs: [('called', 2), ('think', 2), ('thank', 1), ('expect', 1), ('involved', 1), ('hold', 1), ('came', 1), ('spent', 1), ('craning', 1), ('spying', 1), ('wanted', 1), ('discover', 1), ('bear', 1), ('found', 1), ('met', 1), ('pretended', 1), ('fornothing', 1), ('shuddered', 1), ('arrived', 1), ('knew', 1), ('seen', 1), ('keeping', 1), ('want', 1), ('mixing', 1), ('woke', 1), ('starts', 1), ('suggest', 1), ('happening', 1), ('hummed', 1), ('picked', 1), ('gossiped', 1), ('wrestled', 1), ('screaming', 1)]\n"
          ],
          "name": "stdout"
        }
      ]
    },
    {
      "cell_type": "markdown",
      "metadata": {
        "id": "JUFXfC-sbwVJ"
      },
      "source": [
        "**2nd Process To count word frquency**"
      ]
    },
    {
      "cell_type": "code",
      "metadata": {
        "id": "vnktPWfpfN-a",
        "outputId": "47077c63-8039-48fb-9f22-22f4e583fb60",
        "colab": {
          "base_uri": "https://localhost:8080/"
        }
      },
      "source": [
        "from spacy.lang.en.stop_words import STOP_WORDS\n",
        "from string import punctuation\n",
        "\n",
        "keyword = []\n",
        "stopwords = list(STOP_WORDS)\n",
        "pos_tag = ['PROPN', 'ADJ', 'NOUN', 'VERB']\n",
        "for token in doc:\n",
        "    if(token.text in stopwords or token.text in punctuation):\n",
        "        continue\n",
        "    if(token.pos_ in pos_tag):\n",
        "        keyword.append(token.text)\n",
        "\n",
        "freq_word = Counter(keyword)\n",
        "print(freq_word.most_common())"
      ],
      "execution_count": 25,
      "outputs": [
        {
          "output_type": "stream",
          "text": [
            "[('Dursley', 8), ('Mrs.', 7), ('Mr.', 4), ('Dursleys', 4), ('Potters', 4), ('Dudley', 3), ('sister', 3), ('strange', 2), ('mysterious', 2), ('called', 2), ('neck', 2), ('neighbors', 2), ('small', 2), ('son', 2), ('boy', 2), ('think', 2), ('number', 1), ('Privet', 1), ('Drive', 1), ('proud', 1), ('normal', 1), ('thank', 1), ('people', 1), ('expect', 1), ('involved', 1), ('hold', 1), ('nonsense', 1), ('director', 1), ('firm', 1), ('Grunnings', 1), ('drills', 1), ('big', 1), ('beefy', 1), ('man', 1), ('large', 1), ('mustache', 1), ('thin', 1), ('blonde', 1), ('usual', 1), ('came', 1), ('useful', 1), ('spent', 1), ('time', 1), ('craning', 1), ('garden', 1), ('fences', 1), ('spying', 1), ('opinion', 1), ('finer', 1), ('wanted', 1), ('secret', 1), ('greatest', 1), ('fear', 1), ('discover', 1), ('bear', 1), ('found', 1), ('Potter', 1), ('met', 1), ('years', 1), ('fact', 1), ('pretended', 1), ('fornothing', 1), ('husband', 1), ('unDursleyish', 1), ('possible', 1), ('shuddered', 1), ('arrived', 1), ('street', 1), ('knew', 1), ('seen', 1), ('good', 1), ('reason', 1), ('keeping', 1), ('want', 1), ('mixing', 1), ('child', 1), ('woke', 1), ('dull', 1), ('gray', 1), ('Tuesday', 1), ('story', 1), ('starts', 1), ('cloudy', 1), ('sky', 1), ('suggest', 1), ('things', 1), ('happening', 1), ('country', 1), ('hummed', 1), ('picked', 1), ('boring', 1), ('tie', 1), ('work', 1), ('gossiped', 1), ('wrestled', 1), ('screaming', 1), ('high', 1), ('chair', 1)]\n"
          ],
          "name": "stdout"
        }
      ]
    },
    {
      "cell_type": "code",
      "metadata": {
        "id": "HCbQRphOhqqF",
        "outputId": "5c6ae3cf-058d-45ae-cca6-946b35dffbf2",
        "colab": {
          "base_uri": "https://localhost:8080/"
        }
      },
      "source": [
        "from spacy import displacy\n",
        "\n",
        "entities=[(i, i.label_, i.label) for i in doc.ents]\n",
        "entities"
      ],
      "execution_count": 26,
      "outputs": [
        {
          "output_type": "execute_result",
          "data": {
            "text/plain": [
              "[(Dursley, 'PERSON', 380),\n",
              " (number four, 'CARDINAL', 397),\n",
              " (Privet Drive, 'GPE', 384),\n",
              " (Dursley, 'PERSON', 380),\n",
              " (Grunnings, 'ORG', 383),\n",
              " (Dursley, 'PERSON', 380),\n",
              " (Dursleys, 'PERSON', 380),\n",
              " (Dudley, 'PERSON', 380),\n",
              " (Dursleys, 'PERSON', 380),\n",
              " (Potters, 'ORG', 383),\n",
              " (Potter, 'PERSON', 380),\n",
              " (Dursley, 'PERSON', 380),\n",
              " (several years, 'DATE', 391),\n",
              " (Dursley, 'PERSON', 380),\n",
              " (Potters, 'ORG', 383),\n",
              " (Potters, 'ORG', 383),\n",
              " (Potters, 'WORK_OF_ART', 388),\n",
              " (Dudley, 'PERSON', 380),\n",
              " (Dursley, 'PERSON', 380),\n",
              " (Tuesday, 'DATE', 391),\n",
              " (Dursley, 'PERSON', 380),\n",
              " (Dursley, 'PERSON', 380),\n",
              " (Dudley, 'PERSON', 380)]"
            ]
          },
          "metadata": {
            "tags": []
          },
          "execution_count": 26
        }
      ]
    },
    {
      "cell_type": "code",
      "metadata": {
        "id": "uybSQUhdm0Sr",
        "outputId": "2d6cf530-868a-47c2-bf54-030ae155c072",
        "colab": {
          "base_uri": "https://localhost:8080/",
          "height": 282
        }
      },
      "source": [
        "displacy.render(nlp(str(entities)), jupyter=True, style='ent')"
      ],
      "execution_count": 27,
      "outputs": [
        {
          "output_type": "display_data",
          "data": {
            "text/html": [
              "<span class=\"tex2jax_ignore\"><div class=\"entities\" style=\"line-height: 2.5; direction: ltr\">[(\n",
              "<mark class=\"entity\" style=\"background: #aa9cfc; padding: 0.45em 0.6em; margin: 0 0.25em; line-height: 1; border-radius: 0.35em;\">\n",
              "    Dursley\n",
              "    <span style=\"font-size: 0.8em; font-weight: bold; line-height: 1; border-radius: 0.35em; text-transform: uppercase; vertical-align: middle; margin-left: 0.5rem\">PERSON</span>\n",
              "</mark>\n",
              ", 'PERSON', \n",
              "<mark class=\"entity\" style=\"background: #e4e7d2; padding: 0.45em 0.6em; margin: 0 0.25em; line-height: 1; border-radius: 0.35em;\">\n",
              "    380\n",
              "    <span style=\"font-size: 0.8em; font-weight: bold; line-height: 1; border-radius: 0.35em; text-transform: uppercase; vertical-align: middle; margin-left: 0.5rem\">CARDINAL</span>\n",
              "</mark>\n",
              "), (number \n",
              "<mark class=\"entity\" style=\"background: #e4e7d2; padding: 0.45em 0.6em; margin: 0 0.25em; line-height: 1; border-radius: 0.35em;\">\n",
              "    four\n",
              "    <span style=\"font-size: 0.8em; font-weight: bold; line-height: 1; border-radius: 0.35em; text-transform: uppercase; vertical-align: middle; margin-left: 0.5rem\">CARDINAL</span>\n",
              "</mark>\n",
              ", 'CARDINAL', \n",
              "<mark class=\"entity\" style=\"background: #e4e7d2; padding: 0.45em 0.6em; margin: 0 0.25em; line-height: 1; border-radius: 0.35em;\">\n",
              "    397\n",
              "    <span style=\"font-size: 0.8em; font-weight: bold; line-height: 1; border-radius: 0.35em; text-transform: uppercase; vertical-align: middle; margin-left: 0.5rem\">CARDINAL</span>\n",
              "</mark>\n",
              "), (\n",
              "<mark class=\"entity\" style=\"background: #aa9cfc; padding: 0.45em 0.6em; margin: 0 0.25em; line-height: 1; border-radius: 0.35em;\">\n",
              "    Privet Drive\n",
              "    <span style=\"font-size: 0.8em; font-weight: bold; line-height: 1; border-radius: 0.35em; text-transform: uppercase; vertical-align: middle; margin-left: 0.5rem\">PERSON</span>\n",
              "</mark>\n",
              ", 'GPE', \n",
              "<mark class=\"entity\" style=\"background: #e4e7d2; padding: 0.45em 0.6em; margin: 0 0.25em; line-height: 1; border-radius: 0.35em;\">\n",
              "    384\n",
              "    <span style=\"font-size: 0.8em; font-weight: bold; line-height: 1; border-radius: 0.35em; text-transform: uppercase; vertical-align: middle; margin-left: 0.5rem\">CARDINAL</span>\n",
              "</mark>\n",
              "), (\n",
              "<mark class=\"entity\" style=\"background: #aa9cfc; padding: 0.45em 0.6em; margin: 0 0.25em; line-height: 1; border-radius: 0.35em;\">\n",
              "    Dursley\n",
              "    <span style=\"font-size: 0.8em; font-weight: bold; line-height: 1; border-radius: 0.35em; text-transform: uppercase; vertical-align: middle; margin-left: 0.5rem\">PERSON</span>\n",
              "</mark>\n",
              ", 'PERSON', \n",
              "<mark class=\"entity\" style=\"background: #e4e7d2; padding: 0.45em 0.6em; margin: 0 0.25em; line-height: 1; border-radius: 0.35em;\">\n",
              "    380\n",
              "    <span style=\"font-size: 0.8em; font-weight: bold; line-height: 1; border-radius: 0.35em; text-transform: uppercase; vertical-align: middle; margin-left: 0.5rem\">CARDINAL</span>\n",
              "</mark>\n",
              "), (Grunnings, 'ORG', \n",
              "<mark class=\"entity\" style=\"background: #e4e7d2; padding: 0.45em 0.6em; margin: 0 0.25em; line-height: 1; border-radius: 0.35em;\">\n",
              "    383\n",
              "    <span style=\"font-size: 0.8em; font-weight: bold; line-height: 1; border-radius: 0.35em; text-transform: uppercase; vertical-align: middle; margin-left: 0.5rem\">CARDINAL</span>\n",
              "</mark>\n",
              "), (\n",
              "<mark class=\"entity\" style=\"background: #aa9cfc; padding: 0.45em 0.6em; margin: 0 0.25em; line-height: 1; border-radius: 0.35em;\">\n",
              "    Dursley\n",
              "    <span style=\"font-size: 0.8em; font-weight: bold; line-height: 1; border-radius: 0.35em; text-transform: uppercase; vertical-align: middle; margin-left: 0.5rem\">PERSON</span>\n",
              "</mark>\n",
              ", 'PERSON', \n",
              "<mark class=\"entity\" style=\"background: #e4e7d2; padding: 0.45em 0.6em; margin: 0 0.25em; line-height: 1; border-radius: 0.35em;\">\n",
              "    380\n",
              "    <span style=\"font-size: 0.8em; font-weight: bold; line-height: 1; border-radius: 0.35em; text-transform: uppercase; vertical-align: middle; margin-left: 0.5rem\">CARDINAL</span>\n",
              "</mark>\n",
              "), (Dursleys, 'PERSON', \n",
              "<mark class=\"entity\" style=\"background: #e4e7d2; padding: 0.45em 0.6em; margin: 0 0.25em; line-height: 1; border-radius: 0.35em;\">\n",
              "    380\n",
              "    <span style=\"font-size: 0.8em; font-weight: bold; line-height: 1; border-radius: 0.35em; text-transform: uppercase; vertical-align: middle; margin-left: 0.5rem\">CARDINAL</span>\n",
              "</mark>\n",
              "), (\n",
              "<mark class=\"entity\" style=\"background: #aa9cfc; padding: 0.45em 0.6em; margin: 0 0.25em; line-height: 1; border-radius: 0.35em;\">\n",
              "    Dudley\n",
              "    <span style=\"font-size: 0.8em; font-weight: bold; line-height: 1; border-radius: 0.35em; text-transform: uppercase; vertical-align: middle; margin-left: 0.5rem\">PERSON</span>\n",
              "</mark>\n",
              ", 'PERSON', \n",
              "<mark class=\"entity\" style=\"background: #e4e7d2; padding: 0.45em 0.6em; margin: 0 0.25em; line-height: 1; border-radius: 0.35em;\">\n",
              "    380\n",
              "    <span style=\"font-size: 0.8em; font-weight: bold; line-height: 1; border-radius: 0.35em; text-transform: uppercase; vertical-align: middle; margin-left: 0.5rem\">CARDINAL</span>\n",
              "</mark>\n",
              "), (Dursleys, 'PERSON', \n",
              "<mark class=\"entity\" style=\"background: #e4e7d2; padding: 0.45em 0.6em; margin: 0 0.25em; line-height: 1; border-radius: 0.35em;\">\n",
              "    380\n",
              "    <span style=\"font-size: 0.8em; font-weight: bold; line-height: 1; border-radius: 0.35em; text-transform: uppercase; vertical-align: middle; margin-left: 0.5rem\">CARDINAL</span>\n",
              "</mark>\n",
              "), (Potters, 'ORG', \n",
              "<mark class=\"entity\" style=\"background: #e4e7d2; padding: 0.45em 0.6em; margin: 0 0.25em; line-height: 1; border-radius: 0.35em;\">\n",
              "    383\n",
              "    <span style=\"font-size: 0.8em; font-weight: bold; line-height: 1; border-radius: 0.35em; text-transform: uppercase; vertical-align: middle; margin-left: 0.5rem\">CARDINAL</span>\n",
              "</mark>\n",
              "), (Potter, 'PERSON', \n",
              "<mark class=\"entity\" style=\"background: #e4e7d2; padding: 0.45em 0.6em; margin: 0 0.25em; line-height: 1; border-radius: 0.35em;\">\n",
              "    380\n",
              "    <span style=\"font-size: 0.8em; font-weight: bold; line-height: 1; border-radius: 0.35em; text-transform: uppercase; vertical-align: middle; margin-left: 0.5rem\">CARDINAL</span>\n",
              "</mark>\n",
              "), (\n",
              "<mark class=\"entity\" style=\"background: #aa9cfc; padding: 0.45em 0.6em; margin: 0 0.25em; line-height: 1; border-radius: 0.35em;\">\n",
              "    Dursley\n",
              "    <span style=\"font-size: 0.8em; font-weight: bold; line-height: 1; border-radius: 0.35em; text-transform: uppercase; vertical-align: middle; margin-left: 0.5rem\">PERSON</span>\n",
              "</mark>\n",
              ", 'PERSON', \n",
              "<mark class=\"entity\" style=\"background: #e4e7d2; padding: 0.45em 0.6em; margin: 0 0.25em; line-height: 1; border-radius: 0.35em;\">\n",
              "    380\n",
              "    <span style=\"font-size: 0.8em; font-weight: bold; line-height: 1; border-radius: 0.35em; text-transform: uppercase; vertical-align: middle; margin-left: 0.5rem\">CARDINAL</span>\n",
              "</mark>\n",
              "), (\n",
              "<mark class=\"entity\" style=\"background: #bfe1d9; padding: 0.45em 0.6em; margin: 0 0.25em; line-height: 1; border-radius: 0.35em;\">\n",
              "    several years\n",
              "    <span style=\"font-size: 0.8em; font-weight: bold; line-height: 1; border-radius: 0.35em; text-transform: uppercase; vertical-align: middle; margin-left: 0.5rem\">DATE</span>\n",
              "</mark>\n",
              ", 'DATE', \n",
              "<mark class=\"entity\" style=\"background: #e4e7d2; padding: 0.45em 0.6em; margin: 0 0.25em; line-height: 1; border-radius: 0.35em;\">\n",
              "    391\n",
              "    <span style=\"font-size: 0.8em; font-weight: bold; line-height: 1; border-radius: 0.35em; text-transform: uppercase; vertical-align: middle; margin-left: 0.5rem\">CARDINAL</span>\n",
              "</mark>\n",
              "), (\n",
              "<mark class=\"entity\" style=\"background: #aa9cfc; padding: 0.45em 0.6em; margin: 0 0.25em; line-height: 1; border-radius: 0.35em;\">\n",
              "    Dursley\n",
              "    <span style=\"font-size: 0.8em; font-weight: bold; line-height: 1; border-radius: 0.35em; text-transform: uppercase; vertical-align: middle; margin-left: 0.5rem\">PERSON</span>\n",
              "</mark>\n",
              ", 'PERSON', \n",
              "<mark class=\"entity\" style=\"background: #e4e7d2; padding: 0.45em 0.6em; margin: 0 0.25em; line-height: 1; border-radius: 0.35em;\">\n",
              "    380\n",
              "    <span style=\"font-size: 0.8em; font-weight: bold; line-height: 1; border-radius: 0.35em; text-transform: uppercase; vertical-align: middle; margin-left: 0.5rem\">CARDINAL</span>\n",
              "</mark>\n",
              "), (Potters, 'ORG', \n",
              "<mark class=\"entity\" style=\"background: #e4e7d2; padding: 0.45em 0.6em; margin: 0 0.25em; line-height: 1; border-radius: 0.35em;\">\n",
              "    383\n",
              "    <span style=\"font-size: 0.8em; font-weight: bold; line-height: 1; border-radius: 0.35em; text-transform: uppercase; vertical-align: middle; margin-left: 0.5rem\">CARDINAL</span>\n",
              "</mark>\n",
              "), (Potters, 'ORG', \n",
              "<mark class=\"entity\" style=\"background: #e4e7d2; padding: 0.45em 0.6em; margin: 0 0.25em; line-height: 1; border-radius: 0.35em;\">\n",
              "    383\n",
              "    <span style=\"font-size: 0.8em; font-weight: bold; line-height: 1; border-radius: 0.35em; text-transform: uppercase; vertical-align: middle; margin-left: 0.5rem\">CARDINAL</span>\n",
              "</mark>\n",
              "), (Potters, 'WORK_OF_ART', \n",
              "<mark class=\"entity\" style=\"background: #e4e7d2; padding: 0.45em 0.6em; margin: 0 0.25em; line-height: 1; border-radius: 0.35em;\">\n",
              "    388\n",
              "    <span style=\"font-size: 0.8em; font-weight: bold; line-height: 1; border-radius: 0.35em; text-transform: uppercase; vertical-align: middle; margin-left: 0.5rem\">CARDINAL</span>\n",
              "</mark>\n",
              "), (\n",
              "<mark class=\"entity\" style=\"background: #aa9cfc; padding: 0.45em 0.6em; margin: 0 0.25em; line-height: 1; border-radius: 0.35em;\">\n",
              "    Dudley\n",
              "    <span style=\"font-size: 0.8em; font-weight: bold; line-height: 1; border-radius: 0.35em; text-transform: uppercase; vertical-align: middle; margin-left: 0.5rem\">PERSON</span>\n",
              "</mark>\n",
              ", 'PERSON', \n",
              "<mark class=\"entity\" style=\"background: #e4e7d2; padding: 0.45em 0.6em; margin: 0 0.25em; line-height: 1; border-radius: 0.35em;\">\n",
              "    380\n",
              "    <span style=\"font-size: 0.8em; font-weight: bold; line-height: 1; border-radius: 0.35em; text-transform: uppercase; vertical-align: middle; margin-left: 0.5rem\">CARDINAL</span>\n",
              "</mark>\n",
              "), (\n",
              "<mark class=\"entity\" style=\"background: #aa9cfc; padding: 0.45em 0.6em; margin: 0 0.25em; line-height: 1; border-radius: 0.35em;\">\n",
              "    Dursley\n",
              "    <span style=\"font-size: 0.8em; font-weight: bold; line-height: 1; border-radius: 0.35em; text-transform: uppercase; vertical-align: middle; margin-left: 0.5rem\">PERSON</span>\n",
              "</mark>\n",
              ", 'PERSON', \n",
              "<mark class=\"entity\" style=\"background: #e4e7d2; padding: 0.45em 0.6em; margin: 0 0.25em; line-height: 1; border-radius: 0.35em;\">\n",
              "    380\n",
              "    <span style=\"font-size: 0.8em; font-weight: bold; line-height: 1; border-radius: 0.35em; text-transform: uppercase; vertical-align: middle; margin-left: 0.5rem\">CARDINAL</span>\n",
              "</mark>\n",
              "), (\n",
              "<mark class=\"entity\" style=\"background: #bfe1d9; padding: 0.45em 0.6em; margin: 0 0.25em; line-height: 1; border-radius: 0.35em;\">\n",
              "    Tuesday\n",
              "    <span style=\"font-size: 0.8em; font-weight: bold; line-height: 1; border-radius: 0.35em; text-transform: uppercase; vertical-align: middle; margin-left: 0.5rem\">DATE</span>\n",
              "</mark>\n",
              ", 'DATE', \n",
              "<mark class=\"entity\" style=\"background: #e4e7d2; padding: 0.45em 0.6em; margin: 0 0.25em; line-height: 1; border-radius: 0.35em;\">\n",
              "    391\n",
              "    <span style=\"font-size: 0.8em; font-weight: bold; line-height: 1; border-radius: 0.35em; text-transform: uppercase; vertical-align: middle; margin-left: 0.5rem\">CARDINAL</span>\n",
              "</mark>\n",
              "), (\n",
              "<mark class=\"entity\" style=\"background: #aa9cfc; padding: 0.45em 0.6em; margin: 0 0.25em; line-height: 1; border-radius: 0.35em;\">\n",
              "    Dursley\n",
              "    <span style=\"font-size: 0.8em; font-weight: bold; line-height: 1; border-radius: 0.35em; text-transform: uppercase; vertical-align: middle; margin-left: 0.5rem\">PERSON</span>\n",
              "</mark>\n",
              ", 'PERSON', \n",
              "<mark class=\"entity\" style=\"background: #e4e7d2; padding: 0.45em 0.6em; margin: 0 0.25em; line-height: 1; border-radius: 0.35em;\">\n",
              "    380\n",
              "    <span style=\"font-size: 0.8em; font-weight: bold; line-height: 1; border-radius: 0.35em; text-transform: uppercase; vertical-align: middle; margin-left: 0.5rem\">CARDINAL</span>\n",
              "</mark>\n",
              "), (\n",
              "<mark class=\"entity\" style=\"background: #aa9cfc; padding: 0.45em 0.6em; margin: 0 0.25em; line-height: 1; border-radius: 0.35em;\">\n",
              "    Dursley\n",
              "    <span style=\"font-size: 0.8em; font-weight: bold; line-height: 1; border-radius: 0.35em; text-transform: uppercase; vertical-align: middle; margin-left: 0.5rem\">PERSON</span>\n",
              "</mark>\n",
              ", 'PERSON', \n",
              "<mark class=\"entity\" style=\"background: #e4e7d2; padding: 0.45em 0.6em; margin: 0 0.25em; line-height: 1; border-radius: 0.35em;\">\n",
              "    380\n",
              "    <span style=\"font-size: 0.8em; font-weight: bold; line-height: 1; border-radius: 0.35em; text-transform: uppercase; vertical-align: middle; margin-left: 0.5rem\">CARDINAL</span>\n",
              "</mark>\n",
              "), (\n",
              "<mark class=\"entity\" style=\"background: #aa9cfc; padding: 0.45em 0.6em; margin: 0 0.25em; line-height: 1; border-radius: 0.35em;\">\n",
              "    Dudley\n",
              "    <span style=\"font-size: 0.8em; font-weight: bold; line-height: 1; border-radius: 0.35em; text-transform: uppercase; vertical-align: middle; margin-left: 0.5rem\">PERSON</span>\n",
              "</mark>\n",
              ", 'PERSON', \n",
              "<mark class=\"entity\" style=\"background: #e4e7d2; padding: 0.45em 0.6em; margin: 0 0.25em; line-height: 1; border-radius: 0.35em;\">\n",
              "    380\n",
              "    <span style=\"font-size: 0.8em; font-weight: bold; line-height: 1; border-radius: 0.35em; text-transform: uppercase; vertical-align: middle; margin-left: 0.5rem\">CARDINAL</span>\n",
              "</mark>\n",
              ")]</div></span>"
            ],
            "text/plain": [
              "<IPython.core.display.HTML object>"
            ]
          },
          "metadata": {
            "tags": []
          }
        }
      ]
    }
  ]
}