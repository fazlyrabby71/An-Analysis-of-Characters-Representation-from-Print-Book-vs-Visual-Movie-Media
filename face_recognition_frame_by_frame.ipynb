{
  "nbformat": 4,
  "nbformat_minor": 0,
  "metadata": {
    "colab": {
      "name": "face recognition frame by frame",
      "provenance": [],
      "collapsed_sections": [],
      "include_colab_link": true
    },
    "kernelspec": {
      "name": "python3",
      "display_name": "Python 3"
    },
    "accelerator": "GPU"
  },
  "cells": [
    {
      "cell_type": "markdown",
      "metadata": {
        "id": "view-in-github",
        "colab_type": "text"
      },
      "source": [
        "<a href=\"https://colab.research.google.com/github/MsaydurrahmanSami/An-Analysis-of-Character-Representation-from-Print-Book-vs-Visual-Movie-Media/blob/master/face_recognition_frame_by_frame.ipynb\" target=\"_parent\"><img src=\"https://colab.research.google.com/assets/colab-badge.svg\" alt=\"Open In Colab\"/></a>"
      ]
    },
    {
      "cell_type": "code",
      "metadata": {
        "id": "K0ddgiuu0oKs"
      },
      "source": [
        "from google.colab import drive\n",
        "drive.mount('/content/drive')"
      ],
      "execution_count": null,
      "outputs": []
    },
    {
      "cell_type": "code",
      "metadata": {
        "id": "VsSKmUJo6bSz"
      },
      "source": [
        "!pip install face_recognition\n"
      ],
      "execution_count": null,
      "outputs": []
    },
    {
      "cell_type": "code",
      "metadata": {
        "id": "zm2a8_QCyUuW"
      },
      "source": [
        "from PIL import Image, ImageDraw\n",
        "from IPython.display import display\n",
        "\n",
        "# The program we will be finding faces on the example below\n",
        "pil_im = Image.open('/content/drive/My Drive/Colab Notebooks/threepeople.jpg')\n",
        "display(pil_im)"
      ],
      "execution_count": null,
      "outputs": []
    },
    {
      "cell_type": "code",
      "metadata": {
        "id": "rAGiey6UzAf2"
      },
      "source": [
        "import face_recognition\n",
        "import numpy as np\n",
        "from PIL import Image, ImageDraw\n",
        "from IPython.display import display\n",
        "\n",
        "# This is an example of running face recognition on a single image\n",
        "# and drawing a box around each person that was identified.\n",
        "\n",
        "# Load a sample picture and learn how to recognize it.\n",
        "hermonie_image = face_recognition.load_image_file(\"/content/drive/My Drive/Colab Notebooks/HR.jpg\")\n",
        "hermonie_face_encoding = face_recognition.face_encodings(hermonie_image)[0]\n",
        "\n",
        "# Load a second sample picture and learn how to recognize it.\n",
        "harry_image = face_recognition.load_image_file(\"/content/drive/My Drive/Colab Notebooks/DR.jpeg\")\n",
        "harry_face_encoding = face_recognition.face_encodings(harry_image)[0]\n",
        "\n",
        "# Create arrays of known face encodings and their names\n",
        "known_face_encodings = [\n",
        "    hermonie_face_encoding,\n",
        "    harry_face_encoding\n",
        "]\n",
        "known_face_names = [\n",
        "    \"Hermione Granger\",\n",
        "    \"Harry Potter\"\n",
        "]\n",
        "print('Learned encoding for', len(known_face_encodings), 'images.')"
      ],
      "execution_count": null,
      "outputs": []
    },
    {
      "cell_type": "code",
      "metadata": {
        "id": "1aKbsFA3v_0w"
      },
      "source": [
        "# Load an image with an unknown face\n",
        "unknown_image = face_recognition.load_image_file(\"/content/drive/My Drive/Colab Notebooks/ExtractFrame/frame1067.jpg\")\n",
        "\n",
        "# Find all the faces and face encodings in the unknown image\n",
        "face_locations = face_recognition.face_locations(unknown_image)\n",
        "face_encodings = face_recognition.face_encodings(unknown_image, face_locations)\n",
        "\n",
        "# Convert the image to a PIL-format image so that we can draw on top of it with the Pillow library\n",
        "# See http://pillow.readthedocs.io/ for more about PIL/Pillow\n",
        "pil_image = Image.fromarray(unknown_image)\n",
        "# Create a Pillow ImageDraw Draw instance to draw with\n",
        "draw = ImageDraw.Draw(pil_image)\n",
        "\n",
        "# Loop through each face found in the unknown image\n",
        "for (top, right, bottom, left), face_encoding in zip(face_locations, face_encodings):\n",
        "    # See if the face is a match for the known face(s)\n",
        "    matches = face_recognition.compare_faces(known_face_encodings, face_encoding)\n",
        "\n",
        "    name = \"Unknown\"\n",
        "    count=1\n",
        "    # Or instead, use the known face with the smallest distance to the new face\n",
        "    face_distances = face_recognition.face_distance(known_face_encodings, face_encoding)\n",
        "    best_match_index = np.argmin(face_distances)\n",
        "    if matches[best_match_index]:\n",
        "  \n",
        "        name = known_face_names[best_match_index]\n",
        "        while name == \"Unknown\" :\n",
        "                                count += 1 \n",
        "    name.count(\"Unknown\")   \n",
        "    # Draw a box around the face using the Pillow module\n",
        "    draw.rectangle(((left, top), (right, bottom)), outline=(0, 0, 255))\n",
        "\n",
        "    # Draw a label with a name below the face\n",
        "    text_width, text_height = draw.textsize(name)\n",
        "    draw.rectangle(((left, bottom - text_height - 10), (right, bottom)), fill=(0, 0, 255), outline=(0, 0, 255))\n",
        "    draw.text((left + 6, bottom - text_height - 5), name, fill=(255, 255, 255, 255))\n",
        "\n",
        "# Remove the drawing library from memory as per the Pillow docs\n",
        "del draw\n",
        "\n",
        "# Display the resulting image\n",
        "display(pil_image)"
      ],
      "execution_count": null,
      "outputs": []
    }
  ]
}